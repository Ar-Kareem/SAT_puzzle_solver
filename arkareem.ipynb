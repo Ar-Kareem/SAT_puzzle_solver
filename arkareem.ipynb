{
 "cells": [
  {
   "cell_type": "code",
   "execution_count": 2,
   "id": "9fef6e40",
   "metadata": {},
   "outputs": [
    {
     "ename": "IndentationError",
     "evalue": "unindent does not match any outer indentation level (<tokenize>, line 25)",
     "output_type": "error",
     "traceback": [
      "\u001b[1;36m  File \u001b[1;32m<tokenize>:25\u001b[1;36m\u001b[0m\n\u001b[1;33m    res[pos[1]][pos[0]] = c\u001b[0m\n\u001b[1;37m    ^\u001b[0m\n\u001b[1;31mIndentationError\u001b[0m\u001b[1;31m:\u001b[0m unindent does not match any outer indentation level\n"
     ]
    }
   ],
   "source": [
    "import numpy as np\n",
    "import importlib\n",
    "import board\n",
    "\n",
    "importlib.reload(board)\n",
    "\n",
    "bor = np.array([\n",
    "  ['*', '*', '*'], \n",
    "  ['*', '\\\\', '*'], \n",
    "  ['*', '//', '*']]\n",
    ")\n",
    "t = np.array([1, 1, 1])\n",
    "b = np.array([1, 1, 1])\n",
    "r = np.array([1, 1, 1])\n",
    "l = np.array([1, 1, 1])\n",
    "binst = board.Board(board=bor, sides={'top': t, 'bottom': b, 'right': r, 'left': l})\n",
    "binst.solve()\n",
    "print(binst.solver.StatusName())\n",
    "\n",
    "res = np.zeros_like(bor)\n",
    "for pos in binst.get_all_pos():\n",
    "    c = binst.get_char(pos)\n",
    "    if c == '*':\n",
    "        c = binst.get_solved_pos(pos)\n",
    "     res[pos[1]][pos[0]] = c\n",
    "print(res)"
   ]
  }
 ],
 "metadata": {
  "kernelspec": {
   "display_name": "Python 3",
   "language": "python",
   "name": "python3"
  },
  "language_info": {
   "codemirror_mode": {
    "name": "ipython",
    "version": 3
   },
   "file_extension": ".py",
   "mimetype": "text/x-python",
   "name": "python",
   "nbconvert_exporter": "python",
   "pygments_lexer": "ipython3",
   "version": "3.11.4"
  }
 },
 "nbformat": 4,
 "nbformat_minor": 5
}
