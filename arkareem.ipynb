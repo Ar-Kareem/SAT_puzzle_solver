{
 "cells": [
  {
   "cell_type": "code",
   "execution_count": 7,
   "id": "9fef6e40",
   "metadata": {},
   "outputs": [
    {
     "name": "stdout",
     "output_type": "stream",
     "text": [
      "num vars 21\n",
      "top edge\n",
      "left edge\n",
      "right edge\n",
      "bottom edge\n",
      "OPTIMAL\n",
      "[['ZO' 'GH' 'GH']\n",
      " ['GH' '\\\\' '//']\n",
      " ['GH' 'GH' 'ZO']]\n"
     ]
    }
   ],
   "source": [
    "import numpy as np\n",
    "import importlib\n",
    "import board\n",
    "\n",
    "importlib.reload(board)\n",
    "\n",
    "bor = np.array([\n",
    "  ['*', '*', '*'], \n",
    "  ['*', '\\\\', '*'], \n",
    "  ['*', '//', '*']]\n",
    ")\n",
    "t = np.array([1, 1, 1])\n",
    "b = np.array([1, 1, 1])\n",
    "r = np.array([1, 1, 1])\n",
    "l = np.array([1, 1, 1])\n",
    "binst = board.Board(board=bor, sides={'top': t, 'bottom': b, 'right': r, 'left': l})\n",
    "binst.solve()\n",
    "print(binst.solver.StatusName())\n",
    "\n",
    "res = np.zeros_like(bor)\n",
    "for pos in binst.get_all_pos():\n",
    "    c = binst.get_char(pos)\n",
    "    if c == '*':\n",
    "        c = binst.get_solved_pos(pos)\n",
    "    res[pos[1]][pos[0]] = c\n",
    "print(res)"
   ]
  }
 ],
 "metadata": {
  "kernelspec": {
   "display_name": "Python 3",
   "language": "python",
   "name": "python3"
  },
  "language_info": {
   "codemirror_mode": {
    "name": "ipython",
    "version": 3
   },
   "file_extension": ".py",
   "mimetype": "text/x-python",
   "name": "python",
   "nbconvert_exporter": "python",
   "pygments_lexer": "ipython3",
   "version": "3.11.4"
  }
 },
 "nbformat": 4,
 "nbformat_minor": 5
}
